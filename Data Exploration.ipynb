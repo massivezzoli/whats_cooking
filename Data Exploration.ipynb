{
 "cells": [
  {
   "cell_type": "code",
   "execution_count": 1,
   "metadata": {
    "collapsed": true
   },
   "outputs": [],
   "source": [
    "#Load packages:\n",
    "from IPython.display import display\n",
    "%matplotlib inline\n",
    "import json\n",
    "from pprint import pprint\n",
    "import pandas as pd\n",
    "import numpy as np\n",
    "import nltk\n",
    "import re\n",
    "import seaborn as sns \n",
    "from nltk.stem import WordNetLemmatizer\n",
    "from sklearn.feature_extraction.text import TfidfVectorizer\n",
    "from sklearn.feature_extraction.text import CountVectorizer\n",
    "import itertools\n",
    "import string\n",
    "import matplotlib.pyplot as plt\n",
    "plt.style.use('ggplot')"
   ]
  },
  {
   "cell_type": "markdown",
   "metadata": {},
   "source": [
    "### Import Dataset"
   ]
  },
  {
   "cell_type": "code",
   "execution_count": 2,
   "metadata": {
    "collapsed": false
   },
   "outputs": [
    {
     "data": {
      "text/html": [
       "<div>\n",
       "<table border=\"1\" class=\"dataframe\">\n",
       "  <thead>\n",
       "    <tr style=\"text-align: right;\">\n",
       "      <th></th>\n",
       "      <th>cuisine</th>\n",
       "      <th>id</th>\n",
       "      <th>ingredients</th>\n",
       "    </tr>\n",
       "  </thead>\n",
       "  <tbody>\n",
       "    <tr>\n",
       "      <th>0</th>\n",
       "      <td>greek</td>\n",
       "      <td>10259</td>\n",
       "      <td>[romaine lettuce, black olives, grape tomatoes...</td>\n",
       "    </tr>\n",
       "    <tr>\n",
       "      <th>1</th>\n",
       "      <td>southern_us</td>\n",
       "      <td>25693</td>\n",
       "      <td>[plain flour, ground pepper, salt, tomatoes, g...</td>\n",
       "    </tr>\n",
       "    <tr>\n",
       "      <th>2</th>\n",
       "      <td>filipino</td>\n",
       "      <td>20130</td>\n",
       "      <td>[eggs, pepper, salt, mayonaise, cooking oil, g...</td>\n",
       "    </tr>\n",
       "    <tr>\n",
       "      <th>3</th>\n",
       "      <td>indian</td>\n",
       "      <td>22213</td>\n",
       "      <td>[water, vegetable oil, wheat, salt]</td>\n",
       "    </tr>\n",
       "    <tr>\n",
       "      <th>4</th>\n",
       "      <td>indian</td>\n",
       "      <td>13162</td>\n",
       "      <td>[black pepper, shallots, cornflour, cayenne pe...</td>\n",
       "    </tr>\n",
       "    <tr>\n",
       "      <th>5</th>\n",
       "      <td>jamaican</td>\n",
       "      <td>6602</td>\n",
       "      <td>[plain flour, sugar, butter, eggs, fresh ginge...</td>\n",
       "    </tr>\n",
       "    <tr>\n",
       "      <th>6</th>\n",
       "      <td>spanish</td>\n",
       "      <td>42779</td>\n",
       "      <td>[olive oil, salt, medium shrimp, pepper, garli...</td>\n",
       "    </tr>\n",
       "    <tr>\n",
       "      <th>7</th>\n",
       "      <td>italian</td>\n",
       "      <td>3735</td>\n",
       "      <td>[sugar, pistachio nuts, white almond bark, flo...</td>\n",
       "    </tr>\n",
       "    <tr>\n",
       "      <th>8</th>\n",
       "      <td>mexican</td>\n",
       "      <td>16903</td>\n",
       "      <td>[olive oil, purple onion, fresh pineapple, por...</td>\n",
       "    </tr>\n",
       "    <tr>\n",
       "      <th>9</th>\n",
       "      <td>italian</td>\n",
       "      <td>12734</td>\n",
       "      <td>[chopped tomatoes, fresh basil, garlic, extra-...</td>\n",
       "    </tr>\n",
       "  </tbody>\n",
       "</table>\n",
       "</div>"
      ],
      "text/plain": [
       "       cuisine     id                                        ingredients\n",
       "0        greek  10259  [romaine lettuce, black olives, grape tomatoes...\n",
       "1  southern_us  25693  [plain flour, ground pepper, salt, tomatoes, g...\n",
       "2     filipino  20130  [eggs, pepper, salt, mayonaise, cooking oil, g...\n",
       "3       indian  22213                [water, vegetable oil, wheat, salt]\n",
       "4       indian  13162  [black pepper, shallots, cornflour, cayenne pe...\n",
       "5     jamaican   6602  [plain flour, sugar, butter, eggs, fresh ginge...\n",
       "6      spanish  42779  [olive oil, salt, medium shrimp, pepper, garli...\n",
       "7      italian   3735  [sugar, pistachio nuts, white almond bark, flo...\n",
       "8      mexican  16903  [olive oil, purple onion, fresh pineapple, por...\n",
       "9      italian  12734  [chopped tomatoes, fresh basil, garlic, extra-..."
      ]
     },
     "metadata": {},
     "output_type": "display_data"
    },
    {
     "name": "stdout",
     "output_type": "stream",
     "text": [
      "\n",
      "\n",
      "Number recipies: 39774\n"
     ]
    }
   ],
   "source": [
    "traindf = pd.read_json(\"train.json\")\n",
    "display(traindf.head(10))\n",
    "print (\"\\n\")\n",
    "print (\"Number recipies:\", traindf.shape[0])"
   ]
  },
  {
   "cell_type": "markdown",
   "metadata": {
    "collapsed": true
   },
   "source": [
    "### Explore Ingredients"
   ]
  },
  {
   "cell_type": "code",
   "execution_count": 3,
   "metadata": {
    "collapsed": true
   },
   "outputs": [],
   "source": [
    "# Make dictionary with single list of ingredients per cuisine and list of all ingredints\n",
    "cuis_ingr = {}\n",
    "ingr_list=[]\n",
    "# Create dict with ket = cuisine and value = list of ingred.\n",
    "for a,b in traindf.groupby('cuisine'):\n",
    "    #done this way remos issue of list within list of ingr\n",
    "    cuis_ingr[a] = list(itertools.chain.from_iterable(b['ingredients'].values))\n",
    "    ingr_list+=list(itertools.chain.from_iterable(b['ingredients'].values))"
   ]
  },
  {
   "cell_type": "code",
   "execution_count": 4,
   "metadata": {
    "collapsed": false
   },
   "outputs": [
    {
     "name": "stdout",
     "output_type": "stream",
     "text": [
      "Totoal number of ingredients in dataset: 428275\n",
      "number unique ingredients in dataset: 6714\n"
     ]
    }
   ],
   "source": [
    "# Count how many ingredients we have\n",
    "print ('Totoal number of ingredients in dataset:', len(ingr_list))\n",
    "               \n",
    "# count how many single ingredients    \n",
    "unique_ingr = pd.Series(ingr_list).value_counts()\n",
    "print('number unique ingredients in dataset:',len(unique_ingr))\n",
    "#Create list of unique ingredients\n",
    "uniq_ingr_list = pd.Series(ingr_list).value_counts().index.tolist()\n"
   ]
  },
  {
   "cell_type": "code",
   "execution_count": 5,
   "metadata": {
    "collapsed": false
   },
   "outputs": [
    {
     "name": "stdout",
     "output_type": "stream",
     "text": [
      "ingredients that appear only once: 1759\n"
     ]
    }
   ],
   "source": [
    "# Number of ingredients that appear only once in the dataset\n",
    "print(\"ingredients that appear only once:\", len(unique_ingr[unique_ingr==1]))"
   ]
  },
  {
   "cell_type": "code",
   "execution_count": 6,
   "metadata": {
    "collapsed": false
   },
   "outputs": [
    {
     "name": "stdout",
     "output_type": "stream",
     "text": [
      "most commonly used ingredients and how many times they appear:\n"
     ]
    },
    {
     "data": {
      "text/plain": [
       "salt                   18049\n",
       "onions                  7972\n",
       "olive oil               7972\n",
       "water                   7457\n",
       "garlic                  7380\n",
       "sugar                   6434\n",
       "garlic cloves           6237\n",
       "butter                  4848\n",
       "ground black pepper     4785\n",
       "all-purpose flour       4632\n",
       "dtype: int64"
      ]
     },
     "execution_count": 6,
     "metadata": {},
     "output_type": "execute_result"
    }
   ],
   "source": [
    "print(\"most commonly used ingredients and how many times they appear:\")\n",
    "unique_ingr[:10]"
   ]
  },
  {
   "cell_type": "markdown",
   "metadata": {},
   "source": [
    "#### Add column with number of ingredients per recipe"
   ]
  },
  {
   "cell_type": "code",
   "execution_count": 7,
   "metadata": {
    "collapsed": false
   },
   "outputs": [],
   "source": [
    "traindf['tot_ingr']=[len(rec) for rec in traindf['ingredients']]"
   ]
  },
  {
   "cell_type": "code",
   "execution_count": 8,
   "metadata": {
    "collapsed": false
   },
   "outputs": [
    {
     "data": {
      "text/html": [
       "<div>\n",
       "<table border=\"1\" class=\"dataframe\">\n",
       "  <thead>\n",
       "    <tr style=\"text-align: right;\">\n",
       "      <th></th>\n",
       "      <th>cuisine</th>\n",
       "      <th>id</th>\n",
       "      <th>ingredients</th>\n",
       "      <th>tot_ingr</th>\n",
       "    </tr>\n",
       "  </thead>\n",
       "  <tbody>\n",
       "    <tr>\n",
       "      <th>0</th>\n",
       "      <td>greek</td>\n",
       "      <td>10259</td>\n",
       "      <td>[romaine lettuce, black olives, grape tomatoes...</td>\n",
       "      <td>9</td>\n",
       "    </tr>\n",
       "    <tr>\n",
       "      <th>1</th>\n",
       "      <td>southern_us</td>\n",
       "      <td>25693</td>\n",
       "      <td>[plain flour, ground pepper, salt, tomatoes, g...</td>\n",
       "      <td>11</td>\n",
       "    </tr>\n",
       "    <tr>\n",
       "      <th>2</th>\n",
       "      <td>filipino</td>\n",
       "      <td>20130</td>\n",
       "      <td>[eggs, pepper, salt, mayonaise, cooking oil, g...</td>\n",
       "      <td>12</td>\n",
       "    </tr>\n",
       "    <tr>\n",
       "      <th>3</th>\n",
       "      <td>indian</td>\n",
       "      <td>22213</td>\n",
       "      <td>[water, vegetable oil, wheat, salt]</td>\n",
       "      <td>4</td>\n",
       "    </tr>\n",
       "  </tbody>\n",
       "</table>\n",
       "</div>"
      ],
      "text/plain": [
       "       cuisine     id                                        ingredients  \\\n",
       "0        greek  10259  [romaine lettuce, black olives, grape tomatoes...   \n",
       "1  southern_us  25693  [plain flour, ground pepper, salt, tomatoes, g...   \n",
       "2     filipino  20130  [eggs, pepper, salt, mayonaise, cooking oil, g...   \n",
       "3       indian  22213                [water, vegetable oil, wheat, salt]   \n",
       "\n",
       "   tot_ingr  \n",
       "0         9  \n",
       "1        11  \n",
       "2        12  \n",
       "3         4  "
      ]
     },
     "execution_count": 8,
     "metadata": {},
     "output_type": "execute_result"
    }
   ],
   "source": [
    "traindf.ix[:3,]"
   ]
  },
  {
   "cell_type": "markdown",
   "metadata": {},
   "source": [
    "## Calculate stats about ingredients per recipe"
   ]
  },
  {
   "cell_type": "code",
   "execution_count": 9,
   "metadata": {
    "collapsed": false
   },
   "outputs": [],
   "source": [
    "# avg num ingredient per cuisine\n",
    "ingr_avg=traindf['tot_ingr'].groupby(traindf['cuisine']).mean().tolist()\n",
    "# stdev num ingredient per cuisine\n",
    "ingr_std=traindf['tot_ingr'].groupby(traindf['cuisine']).std().tolist()\n",
    "cuis_list=traindf['tot_ingr'].groupby(traindf['cuisine']).mean().index.tolist()"
   ]
  },
  {
   "cell_type": "markdown",
   "metadata": {},
   "source": [
    "### Plot Stats"
   ]
  },
  {
   "cell_type": "code",
   "execution_count": 10,
   "metadata": {
    "collapsed": false
   },
   "outputs": [
    {
     "data": {
      "image/png": "[encoded data removed]",
      "text/plain": [
       "<matplotlib.figure.Figure at 0x1118d3a58>"
      ]
     },
     "metadata": {},
     "output_type": "display_data"
    }
   ],
   "source": [
    "ingr_plot = sns.barplot(x = cuis_list, y = ingr_avg, yerr=ingr_std, color=\"#4984b8\")\n",
    "plt.subplots_adjust(bottom=0.22)\n",
    "ingr_plot.set_ylabel(\"Avg number ingredients per recipe\",size = 14,color=\"black\")\n",
    "ingr_plot.set_xlabel(\"Cuisine\", size=14, color='black')\n",
    "for item in ingr_plot.get_xticklabels():\n",
    "    item.set_rotation(90)\n",
    "ingr_plot.figure.savefig('avg_ingr.png')"
   ]
  },
  {
   "cell_type": "markdown",
   "metadata": {},
   "source": [
    "## Total recipes per cuisine:"
   ]
  },
  {
   "cell_type": "code",
   "execution_count": 11,
   "metadata": {
    "collapsed": false
   },
   "outputs": [
    {
     "name": "stdout",
     "output_type": "stream",
     "text": [
      "italian         0.197063\n",
      "mexican         0.161865\n",
      "southern_us     0.108614\n",
      "indian          0.075502\n",
      "chinese         0.067205\n",
      "french          0.066526\n",
      "cajun_creole    0.038870\n",
      "thai            0.038694\n",
      "japanese        0.035777\n",
      "greek           0.029542\n",
      "spanish         0.024865\n",
      "korean          0.020868\n",
      "vietnamese      0.020742\n",
      "moroccan        0.020642\n",
      "british         0.020214\n",
      "filipino        0.018982\n",
      "irish           0.016770\n",
      "jamaican        0.013225\n",
      "russian         0.012294\n",
      "brazilian       0.011741\n",
      "Name: cuisine, dtype: float64\n"
     ]
    }
   ],
   "source": [
    "cuisines = traindf['cuisine'].value_counts()\n",
    "cuisines_perc = traindf['cuisine'].value_counts()/sum(cuisines)\n",
    "tot_rec = sum(cuisines)\n",
    "print(cuisines_perc)"
   ]
  },
  {
   "cell_type": "code",
   "execution_count": 12,
   "metadata": {
    "collapsed": false
   },
   "outputs": [
    {
     "data": {
      "image/png": "[encoded data removed]",
      "text/plain": [
       "<matplotlib.figure.Figure at 0x1190a8b00>"
      ]
     },
     "metadata": {},
     "output_type": "display_data"
    }
   ],
   "source": [
    "cuis_plot = sns.countplot(x = 'cuisine', data=traindf, palette=\"Blues_r\") \n",
    "plt.subplots_adjust(bottom=0.22)\n",
    "cuis_plot.set_ylabel('Tot. Recipes',size = 14,color=\"black\")\n",
    "cuis_plot.set_xlabel('Cuisine',size = 14,color=\"black\")\n",
    "for item in cuis_plot.get_xticklabels():\n",
    "    item.set_rotation(90)\n",
    "for p in cuis_plot.patches:\n",
    "    height = p.get_height()\n",
    "    cuis_plot.text(p.get_x()+p.get_width()/2.,\n",
    "            height+500,\n",
    "            '{:1.2f}'.format(height/tot_rec),\n",
    "            ha=\"center\", va='center',rotation=90)\n",
    "cuis_plot.figure.savefig('recipe_cuisine.png')"
   ]
  },
  {
   "cell_type": "markdown",
   "metadata": {},
   "source": [
    "## 10 most common ingredients per cuisine:"
   ]
  },
  {
   "cell_type": "code",
   "execution_count": 13,
   "metadata": {
    "collapsed": false
   },
   "outputs": [],
   "source": [
    "top_ingr={}\n",
    "for key, val in cuis_ingr.items():\n",
    "    top_ingr[key]=pd.Series(val).value_counts().index.tolist()[:10]"
   ]
  },
  {
   "cell_type": "code",
   "execution_count": 14,
   "metadata": {
    "collapsed": false
   },
   "outputs": [],
   "source": [
    "top10x20= pd.Series(list(itertools.chain.from_iterable(top_ingr.values())))"
   ]
  },
  {
   "cell_type": "code",
   "execution_count": 15,
   "metadata": {
    "collapsed": false
   },
   "outputs": [],
   "source": [
    "top10x20_list=top10x20.value_counts().index.tolist()\n",
    "top10x20_val=top10x20.value_counts()"
   ]
  },
  {
   "cell_type": "code",
   "execution_count": 16,
   "metadata": {
    "collapsed": false
   },
   "outputs": [
    {
     "data": {
      "text/plain": [
       "salt                 20\n",
       "water                16\n",
       "onions               13\n",
       "garlic               12\n",
       "sugar                12\n",
       "garlic cloves         9\n",
       "olive oil             8\n",
       "butter                7\n",
       "soy sauce             6\n",
       "all-purpose flour     6\n",
       "dtype: int64"
      ]
     },
     "execution_count": 16,
     "metadata": {},
     "output_type": "execute_result"
    }
   ],
   "source": [
    "top10x20_val[:10]"
   ]
  },
  {
   "cell_type": "code",
   "execution_count": 17,
   "metadata": {
    "collapsed": false
   },
   "outputs": [
    {
     "data": {
      "image/png": "[encoded data removed]",
      "text/plain": [
       "<matplotlib.figure.Figure at 0x119423390>"
      ]
     },
     "metadata": {},
     "output_type": "display_data"
    }
   ],
   "source": [
    "top10_plot = sns.barplot(x = top10x20_list[:20], y = top10x20_val[:20], color=\"#4984b8\")\n",
    "plt.subplots_adjust(bottom=0.22)\n",
    "top10_plot.set_ylabel(\"Top10 ingredient count over cuisines\",size = 14,color=\"black\")\n",
    "for item in top10_plot.get_xticklabels():\n",
    "    item.set_rotation(90)"
   ]
  },
  {
   "cell_type": "code",
   "execution_count": 18,
   "metadata": {
    "collapsed": false
   },
   "outputs": [
    {
     "data": {
      "image/png": "[encoded data removed]",
      "text/plain": [
       "<matplotlib.figure.Figure at 0x11966dcc0>"
      ]
     },
     "metadata": {},
     "output_type": "display_data"
    }
   ],
   "source": [
    "top10_plot = sns.barplot(x = top10x20_list[-30:], y = top10x20_val[-30:], color=\"#4984b8\")\n",
    "plt.subplots_adjust(bottom=0.22)\n",
    "top10_plot.set_ylabel(\"Low30 ingredient count over cuisines\",size = 14,color=\"black\")\n",
    "for item in top10_plot.get_xticklabels():\n",
    "    item.set_rotation(90)"
   ]
  },
  {
   "cell_type": "markdown",
   "metadata": {},
   "source": [
    "## Table that compare top 10 ingredients for each cuisine:"
   ]
  },
  {
   "cell_type": "code",
   "execution_count": 19,
   "metadata": {
    "collapsed": false
   },
   "outputs": [
    {
     "data": {
      "text/html": [
       "<div>\n",
       "<table border=\"1\" class=\"dataframe\">\n",
       "  <thead>\n",
       "    <tr style=\"text-align: right;\">\n",
       "      <th></th>\n",
       "      <th>0</th>\n",
       "      <th>1</th>\n",
       "      <th>2</th>\n",
       "      <th>3</th>\n",
       "      <th>4</th>\n",
       "      <th>5</th>\n",
       "      <th>6</th>\n",
       "      <th>7</th>\n",
       "      <th>8</th>\n",
       "      <th>9</th>\n",
       "    </tr>\n",
       "  </thead>\n",
       "  <tbody>\n",
       "    <tr>\n",
       "      <th>brazilian</th>\n",
       "      <td>salt</td>\n",
       "      <td>onions</td>\n",
       "      <td>olive oil</td>\n",
       "      <td>lime</td>\n",
       "      <td>water</td>\n",
       "      <td>garlic cloves</td>\n",
       "      <td>garlic</td>\n",
       "      <td>cachaca</td>\n",
       "      <td>sugar</td>\n",
       "      <td>tomatoes</td>\n",
       "    </tr>\n",
       "    <tr>\n",
       "      <th>british</th>\n",
       "      <td>salt</td>\n",
       "      <td>all-purpose flour</td>\n",
       "      <td>butter</td>\n",
       "      <td>milk</td>\n",
       "      <td>eggs</td>\n",
       "      <td>unsalted butter</td>\n",
       "      <td>sugar</td>\n",
       "      <td>onions</td>\n",
       "      <td>baking powder</td>\n",
       "      <td>large eggs</td>\n",
       "    </tr>\n",
       "    <tr>\n",
       "      <th>cajun_creole</th>\n",
       "      <td>salt</td>\n",
       "      <td>onions</td>\n",
       "      <td>garlic</td>\n",
       "      <td>green bell pepper</td>\n",
       "      <td>butter</td>\n",
       "      <td>olive oil</td>\n",
       "      <td>cayenne pepper</td>\n",
       "      <td>cajun seasoning</td>\n",
       "      <td>all-purpose flour</td>\n",
       "      <td>water</td>\n",
       "    </tr>\n",
       "    <tr>\n",
       "      <th>chinese</th>\n",
       "      <td>soy sauce</td>\n",
       "      <td>sesame oil</td>\n",
       "      <td>salt</td>\n",
       "      <td>corn starch</td>\n",
       "      <td>sugar</td>\n",
       "      <td>garlic</td>\n",
       "      <td>water</td>\n",
       "      <td>green onions</td>\n",
       "      <td>vegetable oil</td>\n",
       "      <td>scallions</td>\n",
       "    </tr>\n",
       "    <tr>\n",
       "      <th>filipino</th>\n",
       "      <td>salt</td>\n",
       "      <td>garlic</td>\n",
       "      <td>water</td>\n",
       "      <td>onions</td>\n",
       "      <td>soy sauce</td>\n",
       "      <td>pepper</td>\n",
       "      <td>oil</td>\n",
       "      <td>sugar</td>\n",
       "      <td>carrots</td>\n",
       "      <td>ground black pepper</td>\n",
       "    </tr>\n",
       "    <tr>\n",
       "      <th>french</th>\n",
       "      <td>salt</td>\n",
       "      <td>sugar</td>\n",
       "      <td>all-purpose flour</td>\n",
       "      <td>unsalted butter</td>\n",
       "      <td>olive oil</td>\n",
       "      <td>butter</td>\n",
       "      <td>water</td>\n",
       "      <td>large eggs</td>\n",
       "      <td>garlic cloves</td>\n",
       "      <td>ground black pepper</td>\n",
       "    </tr>\n",
       "    <tr>\n",
       "      <th>greek</th>\n",
       "      <td>salt</td>\n",
       "      <td>olive oil</td>\n",
       "      <td>dried oregano</td>\n",
       "      <td>garlic cloves</td>\n",
       "      <td>feta cheese crumbles</td>\n",
       "      <td>extra-virgin olive oil</td>\n",
       "      <td>fresh lemon juice</td>\n",
       "      <td>ground black pepper</td>\n",
       "      <td>garlic</td>\n",
       "      <td>pepper</td>\n",
       "    </tr>\n",
       "    <tr>\n",
       "      <th>indian</th>\n",
       "      <td>salt</td>\n",
       "      <td>onions</td>\n",
       "      <td>garam masala</td>\n",
       "      <td>water</td>\n",
       "      <td>ground turmeric</td>\n",
       "      <td>garlic</td>\n",
       "      <td>cumin seed</td>\n",
       "      <td>ground cumin</td>\n",
       "      <td>vegetable oil</td>\n",
       "      <td>oil</td>\n",
       "    </tr>\n",
       "    <tr>\n",
       "      <th>irish</th>\n",
       "      <td>salt</td>\n",
       "      <td>butter</td>\n",
       "      <td>all-purpose flour</td>\n",
       "      <td>onions</td>\n",
       "      <td>sugar</td>\n",
       "      <td>potatoes</td>\n",
       "      <td>baking soda</td>\n",
       "      <td>baking powder</td>\n",
       "      <td>milk</td>\n",
       "      <td>carrots</td>\n",
       "    </tr>\n",
       "    <tr>\n",
       "      <th>italian</th>\n",
       "      <td>salt</td>\n",
       "      <td>olive oil</td>\n",
       "      <td>garlic cloves</td>\n",
       "      <td>grated parmesan cheese</td>\n",
       "      <td>garlic</td>\n",
       "      <td>ground black pepper</td>\n",
       "      <td>extra-virgin olive oil</td>\n",
       "      <td>onions</td>\n",
       "      <td>water</td>\n",
       "      <td>butter</td>\n",
       "    </tr>\n",
       "    <tr>\n",
       "      <th>jamaican</th>\n",
       "      <td>salt</td>\n",
       "      <td>onions</td>\n",
       "      <td>water</td>\n",
       "      <td>garlic</td>\n",
       "      <td>ground allspice</td>\n",
       "      <td>pepper</td>\n",
       "      <td>scallions</td>\n",
       "      <td>dried thyme</td>\n",
       "      <td>black pepper</td>\n",
       "      <td>garlic cloves</td>\n",
       "    </tr>\n",
       "    <tr>\n",
       "      <th>japanese</th>\n",
       "      <td>soy sauce</td>\n",
       "      <td>salt</td>\n",
       "      <td>mirin</td>\n",
       "      <td>sugar</td>\n",
       "      <td>water</td>\n",
       "      <td>sake</td>\n",
       "      <td>rice vinegar</td>\n",
       "      <td>vegetable oil</td>\n",
       "      <td>scallions</td>\n",
       "      <td>ginger</td>\n",
       "    </tr>\n",
       "    <tr>\n",
       "      <th>korean</th>\n",
       "      <td>soy sauce</td>\n",
       "      <td>sesame oil</td>\n",
       "      <td>garlic</td>\n",
       "      <td>green onions</td>\n",
       "      <td>sugar</td>\n",
       "      <td>salt</td>\n",
       "      <td>water</td>\n",
       "      <td>sesame seeds</td>\n",
       "      <td>onions</td>\n",
       "      <td>scallions</td>\n",
       "    </tr>\n",
       "    <tr>\n",
       "      <th>mexican</th>\n",
       "      <td>salt</td>\n",
       "      <td>onions</td>\n",
       "      <td>ground cumin</td>\n",
       "      <td>garlic</td>\n",
       "      <td>olive oil</td>\n",
       "      <td>chili powder</td>\n",
       "      <td>jalapeno chilies</td>\n",
       "      <td>sour cream</td>\n",
       "      <td>avocado</td>\n",
       "      <td>corn tortillas</td>\n",
       "    </tr>\n",
       "    <tr>\n",
       "      <th>moroccan</th>\n",
       "      <td>salt</td>\n",
       "      <td>olive oil</td>\n",
       "      <td>ground cumin</td>\n",
       "      <td>onions</td>\n",
       "      <td>garlic cloves</td>\n",
       "      <td>ground cinnamon</td>\n",
       "      <td>water</td>\n",
       "      <td>ground ginger</td>\n",
       "      <td>carrots</td>\n",
       "      <td>paprika</td>\n",
       "    </tr>\n",
       "    <tr>\n",
       "      <th>russian</th>\n",
       "      <td>salt</td>\n",
       "      <td>sugar</td>\n",
       "      <td>onions</td>\n",
       "      <td>all-purpose flour</td>\n",
       "      <td>sour cream</td>\n",
       "      <td>eggs</td>\n",
       "      <td>water</td>\n",
       "      <td>butter</td>\n",
       "      <td>unsalted butter</td>\n",
       "      <td>large eggs</td>\n",
       "    </tr>\n",
       "    <tr>\n",
       "      <th>southern_us</th>\n",
       "      <td>salt</td>\n",
       "      <td>butter</td>\n",
       "      <td>all-purpose flour</td>\n",
       "      <td>sugar</td>\n",
       "      <td>large eggs</td>\n",
       "      <td>baking powder</td>\n",
       "      <td>water</td>\n",
       "      <td>unsalted butter</td>\n",
       "      <td>milk</td>\n",
       "      <td>buttermilk</td>\n",
       "    </tr>\n",
       "    <tr>\n",
       "      <th>spanish</th>\n",
       "      <td>salt</td>\n",
       "      <td>olive oil</td>\n",
       "      <td>garlic cloves</td>\n",
       "      <td>extra-virgin olive oil</td>\n",
       "      <td>onions</td>\n",
       "      <td>water</td>\n",
       "      <td>tomatoes</td>\n",
       "      <td>ground black pepper</td>\n",
       "      <td>red bell pepper</td>\n",
       "      <td>pepper</td>\n",
       "    </tr>\n",
       "    <tr>\n",
       "      <th>thai</th>\n",
       "      <td>fish sauce</td>\n",
       "      <td>garlic</td>\n",
       "      <td>salt</td>\n",
       "      <td>coconut milk</td>\n",
       "      <td>vegetable oil</td>\n",
       "      <td>soy sauce</td>\n",
       "      <td>sugar</td>\n",
       "      <td>water</td>\n",
       "      <td>garlic cloves</td>\n",
       "      <td>fresh lime juice</td>\n",
       "    </tr>\n",
       "    <tr>\n",
       "      <th>vietnamese</th>\n",
       "      <td>fish sauce</td>\n",
       "      <td>sugar</td>\n",
       "      <td>salt</td>\n",
       "      <td>garlic</td>\n",
       "      <td>water</td>\n",
       "      <td>carrots</td>\n",
       "      <td>soy sauce</td>\n",
       "      <td>shallots</td>\n",
       "      <td>garlic cloves</td>\n",
       "      <td>vegetable oil</td>\n",
       "    </tr>\n",
       "  </tbody>\n",
       "</table>\n",
       "</div>"
      ],
      "text/plain": [
       "                       0                  1                  2  \\\n",
       "brazilian           salt             onions          olive oil   \n",
       "british             salt  all-purpose flour             butter   \n",
       "cajun_creole        salt             onions             garlic   \n",
       "chinese        soy sauce         sesame oil               salt   \n",
       "filipino            salt             garlic              water   \n",
       "french              salt              sugar  all-purpose flour   \n",
       "greek               salt          olive oil      dried oregano   \n",
       "indian              salt             onions       garam masala   \n",
       "irish               salt             butter  all-purpose flour   \n",
       "italian             salt          olive oil      garlic cloves   \n",
       "jamaican            salt             onions              water   \n",
       "japanese       soy sauce               salt              mirin   \n",
       "korean         soy sauce         sesame oil             garlic   \n",
       "mexican             salt             onions       ground cumin   \n",
       "moroccan            salt          olive oil       ground cumin   \n",
       "russian             salt              sugar             onions   \n",
       "southern_us         salt             butter  all-purpose flour   \n",
       "spanish             salt          olive oil      garlic cloves   \n",
       "thai          fish sauce             garlic               salt   \n",
       "vietnamese    fish sauce              sugar               salt   \n",
       "\n",
       "                                   3                     4  \\\n",
       "brazilian                       lime                 water   \n",
       "british                         milk                  eggs   \n",
       "cajun_creole       green bell pepper                butter   \n",
       "chinese                  corn starch                 sugar   \n",
       "filipino                      onions             soy sauce   \n",
       "french               unsalted butter             olive oil   \n",
       "greek                  garlic cloves  feta cheese crumbles   \n",
       "indian                         water       ground turmeric   \n",
       "irish                         onions                 sugar   \n",
       "italian       grated parmesan cheese                garlic   \n",
       "jamaican                      garlic       ground allspice   \n",
       "japanese                       sugar                 water   \n",
       "korean                  green onions                 sugar   \n",
       "mexican                       garlic             olive oil   \n",
       "moroccan                      onions         garlic cloves   \n",
       "russian            all-purpose flour            sour cream   \n",
       "southern_us                    sugar            large eggs   \n",
       "spanish       extra-virgin olive oil                onions   \n",
       "thai                    coconut milk         vegetable oil   \n",
       "vietnamese                    garlic                 water   \n",
       "\n",
       "                                   5                       6  \\\n",
       "brazilian              garlic cloves                  garlic   \n",
       "british              unsalted butter                   sugar   \n",
       "cajun_creole               olive oil          cayenne pepper   \n",
       "chinese                       garlic                   water   \n",
       "filipino                      pepper                     oil   \n",
       "french                        butter                   water   \n",
       "greek         extra-virgin olive oil       fresh lemon juice   \n",
       "indian                        garlic              cumin seed   \n",
       "irish                       potatoes             baking soda   \n",
       "italian          ground black pepper  extra-virgin olive oil   \n",
       "jamaican                      pepper               scallions   \n",
       "japanese                        sake            rice vinegar   \n",
       "korean                          salt                   water   \n",
       "mexican                 chili powder        jalapeno chilies   \n",
       "moroccan             ground cinnamon                   water   \n",
       "russian                         eggs                   water   \n",
       "southern_us            baking powder                   water   \n",
       "spanish                        water                tomatoes   \n",
       "thai                       soy sauce                   sugar   \n",
       "vietnamese                   carrots               soy sauce   \n",
       "\n",
       "                                7                  8                    9  \n",
       "brazilian                 cachaca              sugar             tomatoes  \n",
       "british                    onions      baking powder           large eggs  \n",
       "cajun_creole      cajun seasoning  all-purpose flour                water  \n",
       "chinese              green onions      vegetable oil            scallions  \n",
       "filipino                    sugar            carrots  ground black pepper  \n",
       "french                 large eggs      garlic cloves  ground black pepper  \n",
       "greek         ground black pepper             garlic               pepper  \n",
       "indian               ground cumin      vegetable oil                  oil  \n",
       "irish               baking powder               milk              carrots  \n",
       "italian                    onions              water               butter  \n",
       "jamaican              dried thyme       black pepper        garlic cloves  \n",
       "japanese            vegetable oil          scallions               ginger  \n",
       "korean               sesame seeds             onions            scallions  \n",
       "mexican                sour cream            avocado       corn tortillas  \n",
       "moroccan            ground ginger            carrots              paprika  \n",
       "russian                    butter    unsalted butter           large eggs  \n",
       "southern_us       unsalted butter               milk           buttermilk  \n",
       "spanish       ground black pepper    red bell pepper               pepper  \n",
       "thai                        water      garlic cloves     fresh lime juice  \n",
       "vietnamese               shallots      garlic cloves        vegetable oil  "
      ]
     },
     "execution_count": 19,
     "metadata": {},
     "output_type": "execute_result"
    }
   ],
   "source": [
    "top_ingr_df = pd.DataFrame.from_dict(top_ingr, orient='index')\n",
    "top_ingr_df"
   ]
  },
  {
   "cell_type": "raw",
   "metadata": {},
   "source": []
  },
  {
   "cell_type": "markdown",
   "metadata": {},
   "source": [
    "## Searching for issues in the ingredients list:"
   ]
  },
  {
   "cell_type": "code",
   "execution_count": 20,
   "metadata": {
    "collapsed": false
   },
   "outputs": [],
   "source": [
    "# Contains special characters\n",
    "punct_ingr = set()\n",
    "multi_word_ingr = set()\n",
    "brands_ingr = set()\n",
    "\n",
    "for i in uniq_ingr_list:\n",
    "    # multi-word ingredients\n",
    "    if len(i.split()) != 1:\n",
    "        multi_word_ingr.add(i)\n",
    "    # ingrdients with punctuation in it\n",
    "    for letter in i:\n",
    "        if letter in string.punctuation:\n",
    "            punct_ingr.add(i)\n",
    "    # brand names through unicode special chars        \n",
    "    if u'\\u00AE' in i or u'\\u2122' in i:\n",
    "        brands_ingr.add(i)\n",
    "            "
   ]
  },
  {
   "cell_type": "code",
   "execution_count": 21,
   "metadata": {
    "collapsed": false
   },
   "outputs": [
    {
     "name": "stdout",
     "output_type": "stream",
     "text": [
      "Unique ingredients: 6714\n",
      "Ingredients with brand names in it: 69\n",
      "Ingredients with multiple words in it: 5539\n",
      "Ingredients with punctuation in it: 363\n"
     ]
    }
   ],
   "source": [
    "print('Unique ingredients: %d' % len(uniq_ingr_list))\n",
    "print('Ingredients with brand names in it: %d' % len(brands_ingr))\n",
    "print('Ingredients with multiple words in it: %d' % len(multi_word_ingr))\n",
    "print('Ingredients with punctuation in it: %d' % len(punct_ingr))"
   ]
  },
  {
   "cell_type": "markdown",
   "metadata": {},
   "source": [
    "### Print out a few of the ingredients with the characteristics we looked for"
   ]
  },
  {
   "cell_type": "code",
   "execution_count": 22,
   "metadata": {
    "collapsed": false
   },
   "outputs": [
    {
     "name": "stdout",
     "output_type": "stream",
     "text": [
      "['Hidden Valley® Original Ranch® Light Dressing', \"I Can't Believe It's Not Butter!® All Purpose Sticks\", \"Old El Paso™ Thick 'n Chunky salsa\", 'Ragu® Robusto!® Pasta Sauce', 'Country Crock® Spread', 'BACARDI® Mixers Margarita Mix', 'Truvía® Baking Blend', 'Mazola® Chicken Flavor Bouillon Powder', 'Best Foods® Real Mayonnaise', 'Bertolli® Classico Olive Oil']\n",
      "\n",
      "\n",
      "['sweet pickle', 'seedless raspberry jam', 'cooked ham', 'cod fillets', 'Fuji Apple', 'fresh prawn', 'tropical fruits', 'low fat coleslaw dressing', 'sweet and sour sauce', 'smooth natural peanut butter']\n",
      "\n",
      "\n",
      "['parmigiano-reggiano cheese', 'ogura-an', 'low-fat cheese', 'chocolate-hazelnut spread', '(14.5 oz.) diced tomatoes', 'bread, cut french into loaf', 'freeze-dried strawberries', \"Hellmann's Dijonnaise Creamy Dijon Mustard\", 'soft-shell clams', 'Flora pro.activ']\n"
     ]
    }
   ],
   "source": [
    "print(list(brands_ingr)[:10])\n",
    "print('\\n')\n",
    "print(list(multi_word_ingr)[:10])\n",
    "print('\\n')\n",
    "print(list(punct_ingr)[:10])"
   ]
  }
 ],
 "metadata": {
  "anaconda-cloud": {},
  "kernelspec": {
   "display_name": "Python 3",
   "language": "python",
   "name": "python3"
  },
  "language_info": {
   "codemirror_mode": {
    "name": "ipython",
    "version": 3
   },
   "file_extension": ".py",
   "mimetype": "text/x-python",
   "name": "python",
   "nbconvert_exporter": "python",
   "pygments_lexer": "ipython3",
   "version": "3.6.0"
  }
 },
 "nbformat": 4,
 "nbformat_minor": 1
}
